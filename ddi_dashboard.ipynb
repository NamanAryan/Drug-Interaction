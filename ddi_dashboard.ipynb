{
 "cells": [
  {
   "cell_type": "code",
   "execution_count": 2,
   "id": "b43438d6-6454-437c-8009-019f9d9dad2b",
   "metadata": {},
   "outputs": [
    {
     "ename": "ModuleNotFoundError",
     "evalue": "No module named 'torch_geometric'",
     "output_type": "error",
     "traceback": [
      "\u001b[1;31m---------------------------------------------------------------------------\u001b[0m",
      "\u001b[1;31mModuleNotFoundError\u001b[0m                       Traceback (most recent call last)",
      "Cell \u001b[1;32mIn[2], line 3\u001b[0m\n\u001b[0;32m      1\u001b[0m \u001b[38;5;66;03m# Cell 2: Imports\u001b[39;00m\n\u001b[0;32m      2\u001b[0m \u001b[38;5;28;01mimport\u001b[39;00m\u001b[38;5;250m \u001b[39m\u001b[38;5;21;01mtorch\u001b[39;00m\n\u001b[1;32m----> 3\u001b[0m \u001b[38;5;28;01mfrom\u001b[39;00m\u001b[38;5;250m \u001b[39m\u001b[38;5;21;01mtorch_geometric\u001b[39;00m\u001b[38;5;21;01m.\u001b[39;00m\u001b[38;5;21;01mdata\u001b[39;00m\u001b[38;5;250m \u001b[39m\u001b[38;5;28;01mimport\u001b[39;00m Data\n\u001b[0;32m      4\u001b[0m \u001b[38;5;28;01mfrom\u001b[39;00m\u001b[38;5;250m \u001b[39m\u001b[38;5;21;01mrdkit\u001b[39;00m\u001b[38;5;250m \u001b[39m\u001b[38;5;28;01mimport\u001b[39;00m Chem\n\u001b[0;32m      5\u001b[0m \u001b[38;5;28;01mimport\u001b[39;00m\u001b[38;5;250m \u001b[39m\u001b[38;5;21;01mmatplotlib\u001b[39;00m\u001b[38;5;21;01m.\u001b[39;00m\u001b[38;5;21;01mpyplot\u001b[39;00m\u001b[38;5;250m \u001b[39m\u001b[38;5;28;01mas\u001b[39;00m\u001b[38;5;250m \u001b[39m\u001b[38;5;21;01mplt\u001b[39;00m\n",
      "\u001b[1;31mModuleNotFoundError\u001b[0m: No module named 'torch_geometric'"
     ]
    }
   ],
   "source": [
    "# Cell 2: Imports\n",
    "import torch\n",
    "from torch_geometric.data import Data\n",
    "from rdkit import Chem\n",
    "import matplotlib.pyplot as plt\n",
    "import seaborn as sns\n",
    "import numpy as np\n"
   ]
  },
  {
   "cell_type": "code",
   "execution_count": null,
   "id": "625a5980-4c8e-4c6e-b646-6c518e4879db",
   "metadata": {},
   "outputs": [],
   "source": [
    "# Cell 3: Model + Graph Conversion\n",
    "# Define model class (same as model.py)\n",
    "from torch_geometric.nn import GCNConv, global_mean_pool\n",
    "import torch.nn.functional as F\n",
    "import torch.nn as nn\n",
    "\n",
    "class GNNClassifier(nn.Module):\n",
    "    def __init__(self, hidden_dim=64):\n",
    "        super(GNNClassifier, self).__init__()\n",
    "        self.conv1 = GCNConv(1, hidden_dim)\n",
    "        self.conv2 = GCNConv(hidden_dim, hidden_dim)\n",
    "        self.classifier = nn.Sequential(\n",
    "            nn.Linear(hidden_dim, 32),\n",
    "            nn.ReLU(),\n",
    "            nn.Linear(32, 1)\n",
    "        )\n",
    "\n",
    "    def forward(self, data):\n",
    "        x, edge_index, batch = data.x, data.edge_index, data.batch\n",
    "        x = self.conv1(x, edge_index)\n",
    "        x = F.relu(x)\n",
    "        x = self.conv2(x, edge_index)\n",
    "        x = global_mean_pool(x, batch)\n",
    "        return torch.sigmoid(self.classifier(x))\n",
    "\n",
    "def smiles_to_graph(smiles):\n",
    "    mol = Chem.MolFromSmiles(smiles)\n",
    "    atoms = mol.GetAtoms()\n",
    "    bonds = mol.GetBonds()\n",
    "\n",
    "    x = torch.tensor([atom.GetAtomicNum() for atom in atoms], dtype=torch.float).unsqueeze(1)\n",
    "    edge_index = []\n",
    "    for bond in bonds:\n",
    "        i = bond.GetBeginAtomIdx()\n",
    "        j = bond.GetEndAtomIdx()\n",
    "        edge_index.append([i, j])\n",
    "        edge_index.append([j, i])\n",
    "    edge_index = torch.tensor(edge_index, dtype=torch.long).t().contiguous()\n",
    "\n",
    "    return Data(x=x, edge_index=edge_index)\n"
   ]
  },
  {
   "cell_type": "code",
   "execution_count": null,
   "id": "a54e56c2-4b71-4a24-b0fc-f405f15aa50f",
   "metadata": {},
   "outputs": [],
   "source": [
    "# Cell 4: Load model\n",
    "model = GNNClassifier()\n",
    "model.load_state_dict(torch.load(\"ddi_model.pt\", map_location=torch.device('cpu')))\n",
    "model.eval()\n"
   ]
  },
  {
   "cell_type": "code",
   "execution_count": null,
   "id": "5e22aace-ee46-4792-94fe-fa84ed1c0dce",
   "metadata": {},
   "outputs": [],
   "source": [
    "# Cell 5: Predict on user input\n",
    "# Input your SMILES here\n",
    "smiles1 = \"CCO\"\n",
    "smiles2 = \"CN\"\n",
    "\n",
    "g1 = smiles_to_graph(smiles1)\n",
    "g2 = smiles_to_graph(smiles2)\n",
    "\n",
    "x = torch.cat([g1.x, g2.x], dim=0)\n",
    "edge_index = torch.cat([g1.edge_index, g2.edge_index + g1.x.size(0)], dim=1)\n",
    "data = Data(x=x, edge_index=edge_index)\n",
    "data.batch = torch.zeros(data.x.size(0), dtype=torch.long)\n",
    "\n",
    "with torch.no_grad():\n",
    "    confidence = model(data).item()\n",
    "\n",
    "print(f\"Prediction Confidence: {confidence:.2f}\")\n"
   ]
  },
  {
   "cell_type": "code",
   "execution_count": null,
   "id": "83bc1fbb-ab92-4ae8-b75a-c08084a3d669",
   "metadata": {},
   "outputs": [],
   "source": [
    "# Cell 6: Visual Dashboard\n",
    "risk = \"HIGH\" if confidence > 0.75 else \"MEDIUM\" if confidence > 0.5 else \"LOW\"\n",
    "evidence = \"Strong\" if confidence > 0.9 else \"Moderate\" if confidence > 0.6 else \"Weak\"\n",
    "\n",
    "# Plot bars\n",
    "plt.figure(figsize=(6, 2))\n",
    "plt.barh([\"Prediction Confidence\"], [confidence], color='royalblue')\n",
    "plt.xlim(0, 1)\n",
    "plt.title(f\"Confidence: {int(confidence*100)}% | Risk Level: {risk}\")\n",
    "plt.xlabel(\"Confidence Score\")\n",
    "plt.grid(True)\n",
    "plt.show()\n",
    "\n",
    "# Show Risk Box\n",
    "print(f\"🟠 Risk Level: {risk}\")\n",
    "print(f\"📘 Evidence Strength: {evidence}\")\n"
   ]
  },
  {
   "cell_type": "code",
   "execution_count": null,
   "id": "2016aacc-9bae-489f-8a73-08f7326c6003",
   "metadata": {},
   "outputs": [],
   "source": []
  },
  {
   "cell_type": "code",
   "execution_count": null,
   "id": "a078c68c-7d1a-4190-99cb-5f0761211375",
   "metadata": {},
   "outputs": [],
   "source": []
  }
 ],
 "metadata": {
  "kernelspec": {
   "display_name": "Python 3 (ipykernel)",
   "language": "python",
   "name": "python3"
  },
  "language_info": {
   "codemirror_mode": {
    "name": "ipython",
    "version": 3
   },
   "file_extension": ".py",
   "mimetype": "text/x-python",
   "name": "python",
   "nbconvert_exporter": "python",
   "pygments_lexer": "ipython3",
   "version": "3.8.0"
  }
 },
 "nbformat": 4,
 "nbformat_minor": 5
}
